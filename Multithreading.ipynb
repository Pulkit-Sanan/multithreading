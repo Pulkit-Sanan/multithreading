{
 "cells": [
  {
   "cell_type": "code",
   "execution_count": 2,
   "metadata": {},
   "outputs": [],
   "source": [
    "import time\n",
    "import numpy as np\n",
    "import pandas as pd\n",
    "import matplotlib.pyplot as plt\n",
    "import seaborn as sns\n",
    "import warnings\n",
    "import multiprocessing\n",
    "from concurrent.futures import ThreadPoolExecutor\n",
    "\n",
    "warnings.filterwarnings(\"ignore\")"
   ]
  },
  {
   "cell_type": "code",
   "execution_count": 3,
   "metadata": {},
   "outputs": [
    {
     "name": "stdout",
     "output_type": "stream",
     "text": [
      "Num of cores are:  16\n"
     ]
    }
   ],
   "source": [
    "# Number of Cores: 16 for Predator Helios 300 (i7 10th gen)\n",
    "numberOfCores = multiprocessing.cpu_count()\n",
    "print(\"Num of cores are: \", numberOfCores)"
   ]
  },
  {
   "cell_type": "code",
   "execution_count": 4,
   "metadata": {},
   "outputs": [],
   "source": [
    "# Function for multiplying two matrices\n",
    "def matrix_multiply(mat1, mat2):\n",
    "    return np.dot(mat1, mat2)"
   ]
  },
  {
   "cell_type": "code",
   "execution_count": 5,
   "metadata": {},
   "outputs": [],
   "source": [
    "# Function to perform matrix multiplications\n",
    "def perform_matrix_multiplications(num_matrices, matrix_size, constant_matrix):\n",
    "    results = []\n",
    "    for _ in range(num_matrices):\n",
    "        random_matrix = np.random.rand(*matrix_size)\n",
    "        result = matrix_multiply(random_matrix, constant_matrix)\n",
    "        results.append(result)\n",
    "    return results"
   ]
  },
  {
   "cell_type": "code",
   "execution_count": 6,
   "metadata": {},
   "outputs": [],
   "source": [
    "def main(num_threads):\n",
    "    matrix_size = (2000, 2000)\n",
    "    num_matrices = 100\n",
    "    constant_matrix = np.random.rand(*matrix_size)\n",
    "\n",
    "    # Start time \n",
    "    start_time = time.time()\n",
    "\n",
    "    # Perform matrix multiplications with specified number of threads\n",
    "    with ThreadPoolExecutor(max_workers=num_threads) as executor:\n",
    "        results = executor.map(\n",
    "            perform_matrix_multiplications,\n",
    "            [num_matrices // num_threads] * num_threads,\n",
    "            [matrix_size] * num_threads,\n",
    "            [constant_matrix] * num_threads\n",
    "        )\n",
    "\n",
    "    # End time measurement\n",
    "    end_time = time.time()\n",
    "    total_time = end_time - start_time\n",
    "\n",
    "    # Flatten the results list\n",
    "    results = [result for sublist in results for result in sublist]\n",
    "\n",
    "    print(f\"Time taken with {num_threads} threads: {total_time:.4f} seconds\")\n",
    "    return total_time\n"
   ]
  },
  {
   "cell_type": "code",
   "execution_count": 7,
   "metadata": {},
   "outputs": [
    {
     "name": "stdout",
     "output_type": "stream",
     "text": [
      "Time taken with 1 threads: 21.7392 seconds\n",
      "Time taken with 2 threads: 19.5289 seconds\n",
      "Time taken with 3 threads: 20.0245 seconds\n",
      "Time taken with 4 threads: 16.5004 seconds\n",
      "Time taken with 5 threads: 13.2827 seconds\n",
      "Time taken with 6 threads: 12.5169 seconds\n",
      "Time taken with 7 threads: 13.4517 seconds\n",
      "Time taken with 8 threads: 12.7461 seconds\n",
      "Time taken with 9 threads: 12.5203 seconds\n",
      "Time taken with 10 threads: 13.3718 seconds\n",
      "Time taken with 11 threads: 14.0723 seconds\n",
      "Time taken with 12 threads: 13.1298 seconds\n",
      "Time taken with 13 threads: 12.6890 seconds\n",
      "Time taken with 14 threads: 13.1368 seconds\n",
      "Time taken with 15 threads: 12.3505 seconds\n",
      "Time taken with 16 threads: 12.7971 seconds\n"
     ]
    }
   ],
   "source": [
    "num_threads = [1, 2, 3, 4, 5, 6, 7, 8, 9, 10, 11, 12, 13, 14, 15, 16]\n",
    "tt = []\n",
    "for i in range(0, len(num_threads)):\n",
    "    tt.append(main(num_threads[i]))"
   ]
  },
  {
   "cell_type": "code",
   "execution_count": 14,
   "metadata": {},
   "outputs": [
    {
     "data": {
      "text/html": [
       "<div>\n",
       "<style scoped>\n",
       "    .dataframe tbody tr th:only-of-type {\n",
       "        vertical-align: middle;\n",
       "    }\n",
       "\n",
       "    .dataframe tbody tr th {\n",
       "        vertical-align: top;\n",
       "    }\n",
       "\n",
       "    .dataframe thead th {\n",
       "        text-align: right;\n",
       "    }\n",
       "</style>\n",
       "<table border=\"1\" class=\"dataframe\">\n",
       "  <thead>\n",
       "    <tr style=\"text-align: right;\">\n",
       "      <th></th>\n",
       "      <th>Threads</th>\n",
       "      <th>Time Taken</th>\n",
       "    </tr>\n",
       "  </thead>\n",
       "  <tbody>\n",
       "    <tr>\n",
       "      <th>0</th>\n",
       "      <td>1</td>\n",
       "      <td>21.739154</td>\n",
       "    </tr>\n",
       "    <tr>\n",
       "      <th>1</th>\n",
       "      <td>2</td>\n",
       "      <td>19.528908</td>\n",
       "    </tr>\n",
       "    <tr>\n",
       "      <th>2</th>\n",
       "      <td>3</td>\n",
       "      <td>20.024504</td>\n",
       "    </tr>\n",
       "    <tr>\n",
       "      <th>3</th>\n",
       "      <td>4</td>\n",
       "      <td>16.500403</td>\n",
       "    </tr>\n",
       "    <tr>\n",
       "      <th>4</th>\n",
       "      <td>5</td>\n",
       "      <td>13.282717</td>\n",
       "    </tr>\n",
       "    <tr>\n",
       "      <th>5</th>\n",
       "      <td>6</td>\n",
       "      <td>12.516893</td>\n",
       "    </tr>\n",
       "    <tr>\n",
       "      <th>6</th>\n",
       "      <td>7</td>\n",
       "      <td>13.451714</td>\n",
       "    </tr>\n",
       "    <tr>\n",
       "      <th>7</th>\n",
       "      <td>8</td>\n",
       "      <td>12.746060</td>\n",
       "    </tr>\n",
       "    <tr>\n",
       "      <th>8</th>\n",
       "      <td>9</td>\n",
       "      <td>12.520297</td>\n",
       "    </tr>\n",
       "    <tr>\n",
       "      <th>9</th>\n",
       "      <td>10</td>\n",
       "      <td>13.371803</td>\n",
       "    </tr>\n",
       "    <tr>\n",
       "      <th>10</th>\n",
       "      <td>11</td>\n",
       "      <td>14.072305</td>\n",
       "    </tr>\n",
       "    <tr>\n",
       "      <th>11</th>\n",
       "      <td>12</td>\n",
       "      <td>13.129847</td>\n",
       "    </tr>\n",
       "    <tr>\n",
       "      <th>12</th>\n",
       "      <td>13</td>\n",
       "      <td>12.688990</td>\n",
       "    </tr>\n",
       "    <tr>\n",
       "      <th>13</th>\n",
       "      <td>14</td>\n",
       "      <td>13.136782</td>\n",
       "    </tr>\n",
       "    <tr>\n",
       "      <th>14</th>\n",
       "      <td>15</td>\n",
       "      <td>12.350492</td>\n",
       "    </tr>\n",
       "    <tr>\n",
       "      <th>15</th>\n",
       "      <td>16</td>\n",
       "      <td>12.797081</td>\n",
       "    </tr>\n",
       "  </tbody>\n",
       "</table>\n",
       "</div>"
      ],
      "text/plain": [
       "    Threads  Time Taken\n",
       "0         1   21.739154\n",
       "1         2   19.528908\n",
       "2         3   20.024504\n",
       "3         4   16.500403\n",
       "4         5   13.282717\n",
       "5         6   12.516893\n",
       "6         7   13.451714\n",
       "7         8   12.746060\n",
       "8         9   12.520297\n",
       "9        10   13.371803\n",
       "10       11   14.072305\n",
       "11       12   13.129847\n",
       "12       13   12.688990\n",
       "13       14   13.136782\n",
       "14       15   12.350492\n",
       "15       16   12.797081"
      ]
     },
     "execution_count": 14,
     "metadata": {},
     "output_type": "execute_result"
    }
   ],
   "source": [
    "# Result Table\n",
    "results_pd = pd.DataFrame(data = {\n",
    "    'Threads': list(np.arange(1,17)),\n",
    "    'Time Taken' : tt\n",
    "})\n",
    "results_pd"
   ]
  },
  {
   "cell_type": "code",
   "execution_count": 9,
   "metadata": {},
   "outputs": [
    {
     "data": {
      "image/png": "[encoded data removed]",
      "text/plain": [
       "<Figure size 640x480 with 1 Axes>"
      ]
     },
     "metadata": {},
     "output_type": "display_data"
    }
   ],
   "source": [
    "# Result Graph\n",
    "sns.lineplot(x=num_threads, y=tt, marker='o')\n",
    "plt.title('Execution Time')\n",
    "plt.xlabel('Number of Threads')\n",
    "plt.ylabel('Time Taken')\n",
    "plt.show()"
   ]
  }
 ],
 "metadata": {
  "kernelspec": {
   "display_name": "Python 3",
   "language": "python",
   "name": "python3"
  },
  "language_info": {
   "codemirror_mode": {
    "name": "ipython",
    "version": 3
   },
   "file_extension": ".py",
   "mimetype": "text/x-python",
   "name": "python",
   "nbconvert_exporter": "python",
   "pygments_lexer": "ipython3",
   "version": "3.10.12"
  }
 },
 "nbformat": 4,
 "nbformat_minor": 2
}
